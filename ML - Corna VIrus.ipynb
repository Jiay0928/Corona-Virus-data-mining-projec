{
 "cells": [
  {
   "cell_type": "code",
   "execution_count": 1,
   "metadata": {},
   "outputs": [],
   "source": [
    "import pandas as pd\n",
    "import matplotlib.pyplot as plt\n",
    "import numpy as np\n",
    "import matplotlib.colors as mcolors\n",
    "import random\n",
    "import math\n",
    "from sklearn.model_selection import RandomizedSearchCV,train_test_split\n",
    "from sklearn.svm import SVR\n",
    "from sklearn.metrics import mean_squared_error, mean_absolute_error\n",
    "import datetime\n",
    "import operator\n",
    "plt.style.use('seaborn')\n",
    "%matplotlib inline"
   ]
  },
  {
   "cell_type": "code",
   "execution_count": 2,
   "metadata": {},
   "outputs": [],
   "source": [
    "WorldCasedf = pd.read_csv('covid19_confirmed_global.csv');\n",
    "popDesdf = pd.read_csv('API_EN.POP.DNST.csv')\n",
    "USCasedf = pd.read_csv('time_series_covid19_confirmed_US.csv')\n",
    "StateDesdf = pd.read_csv('Population Density for state:province.csv')"
   ]
  },
  {
   "cell_type": "code",
   "execution_count": 3,
   "metadata": {},
   "outputs": [
    {
     "name": "stdout",
     "output_type": "stream",
     "text": [
      "Index(['Province/State', 'Country/Region', 'Lat'], dtype='object')\n",
      "Index(['Country Name', '2018'], dtype='object')\n",
      "Index(['Country Name', '2018'], dtype='object')\n"
     ]
    }
   ],
   "source": [
    "print(WorldCasedf.columns[:3])\n",
    "print(popDesdf.columns)\n",
    "print(StateDesdf.columns)"
   ]
  },
  {
   "cell_type": "code",
   "execution_count": 4,
   "metadata": {},
   "outputs": [],
   "source": [
    "for ind in WorldCasedf.index:\n",
    "    \n",
    "    if (isinstance(WorldCasedf.loc[ind,'4/22/20'],type(100))):\n",
    "        if(WorldCasedf.loc[ind,'4/22/20']<3):\n",
    "            WorldCasedf = WorldCasedf.drop([ind])\n",
    "    continue\n",
    "        "
   ]
  },
  {
   "cell_type": "code",
   "execution_count": 5,
   "metadata": {
    "scrolled": true
   },
   "outputs": [],
   "source": [
    "def changeDf(df,popDesdf,Region,State):\n",
    "    \n",
    "    df['Population Density'] = np.zeros(df.shape[0])\n",
    "    df = df[['Population Density'] + df.columns[:-1].tolist()]\n",
    "    ### add Population Density for DF\n",
    "    for ind in df.index:\n",
    "        \n",
    "        countryNow = df.loc[ind,Region]\n",
    "        StateNow = df.loc[ind,State]\n",
    "        if (not(pd.isna(StateNow))):\n",
    "            \n",
    "            if (not(StateDesdf.loc[StateDesdf[\"Country Name\"] == StateNow,'2018'].empty)):\n",
    "\n",
    "                df.at[ind,'Population Density']= StateDesdf.loc[StateDesdf[\"Country Name\"] == StateNow,'2018']\n",
    "                df.at[ind,Region] = df.loc[ind,'Province/State']\n",
    "                continue\n",
    "            \n",
    "                \n",
    "            \n",
    "        if (popDesdf.loc[popDesdf[\"Country Name\"] == countryNow,'2018'].empty):\n",
    "            df = df.drop([ind])\n",
    "            continue\n",
    "        df.at[ind,'Population Density']= popDesdf.loc[popDesdf[\"Country Name\"] == countryNow,'2018']\n",
    "        \n",
    "        \n",
    "        \n",
    "       \n",
    "            \n",
    "        \n",
    "       \n",
    "           \n",
    "    df = df.set_index(Region)\n",
    "    return df\n",
    "        \n",
    "\n",
    "\n",
    "\n"
   ]
  },
  {
   "cell_type": "code",
   "execution_count": 6,
   "metadata": {},
   "outputs": [],
   "source": [
    "WorldCasedf = changeDf(WorldCasedf,popDesdf,'Country/Region','Province/State')\n",
    "\n",
    "WorldCasedf = WorldCasedf.drop(['Province/State'],axis = 1)\n"
   ]
  },
  {
   "cell_type": "code",
   "execution_count": 7,
   "metadata": {},
   "outputs": [
    {
     "data": {
      "text/plain": [
       "Population Density       14.8000\n",
       "Lat                      51.2538\n",
       "Long                    -85.3232\n",
       "1/22/20                   0.0000\n",
       "1/23/20                   0.0000\n",
       "                         ...    \n",
       "4/18/20               11013.0000\n",
       "4/19/20               11561.0000\n",
       "4/20/20               12063.0000\n",
       "4/21/20               12715.0000\n",
       "4/22/20               13718.0000\n",
       "Name: Ontario, Length: 95, dtype: float64"
      ]
     },
     "execution_count": 7,
     "metadata": {},
     "output_type": "execute_result"
    }
   ],
   "source": [
    "WorldCasedf.head()\n",
    "WorldCasedf.loc['Ontario',:]"
   ]
  },
  {
   "cell_type": "code",
   "execution_count": 8,
   "metadata": {},
   "outputs": [],
   "source": [
    "def ChangeUSdf(USdf):\n",
    "    loc = \"\"\n",
    "    re_index = -1;\n",
    "    returndf = pd.DataFrame(columns=USdf.columns);\n",
    "    long = 0\n",
    "    lati = 0\n",
    "    numofcity = 1\n",
    "    \n",
    "    for ind in USdf.index:\n",
    "        if (loc is USdf.loc[ind,'Province_State']):\n",
    "           \n",
    "            currentAdd = USdf.iloc[ind,:]\n",
    "            numofcity+=1\n",
    "            long += USdf.loc[ind,'Long_']\n",
    "            lati += USdf.loc[ind,'Lat']\n",
    "           \n",
    "            for column in range(11,returndf.shape[1]):\n",
    "                returndf.iat[re_index,column] = returndf.iloc[re_index,column] + currentAdd.iloc[column]\n",
    "            continue\n",
    "        re_index += 1;\n",
    "        if (re_index > 0):\n",
    "            returndf.iat[re_index-1,9] = long/numofcity\n",
    "            returndf.iat[re_index-1,8] = lati/numofcity\n",
    "        \n",
    "        loc = USdf.loc[ind,'Province_State']\n",
    "       \n",
    "        lati = USdf.loc[ind,'Lat'] \n",
    "        long = USdf.loc[ind,'Long_'] \n",
    "        numofcity = 1\n",
    "        returndf = returndf.append(USdf.iloc[ind,:])\n",
    "    returndf.iat[re_index-1,9] = long/numofcity\n",
    "    returndf.iat[re_index-1,8] = lati/numofcity\n",
    "    returndf['Population Density'] = np.zeros(returndf.shape[0])\n",
    "    \n",
    "    returndf = returndf.reindex()\n",
    "   \n",
    "    for i in returndf.index:\n",
    "        loc = returndf.loc[i,\"Province_State\"]\n",
    "        \n",
    "        if((StateDesdf.loc[StateDesdf[\"Country Name\"] == loc,'2018'].empty)):\n",
    "            returndf = returndf.drop([i])\n",
    "            continue\n",
    "        \n",
    "        returndf.at[i,'Population Density']= StateDesdf.loc[StateDesdf[\"Country Name\"] == loc,'2018']\n",
    "        \n",
    "\n",
    "        \n",
    "        \n",
    "                \n",
    "        \n",
    "        \n",
    "    \n",
    "    returndf = returndf.iloc[:,6:]\n",
    "    \n",
    "   \n",
    "    returndf = returndf[['Population Density'] + returndf.columns[:-1].tolist()] \n",
    "    returndf = returndf.drop(['Country_Region'],axis = 1)\n",
    "    returndf = returndf.drop(['Combined_Key'],axis = 1)\n",
    "    \n",
    "      \n",
    "    returndf = returndf.set_index('Province_State')\n",
    "    \n",
    "    return returndf"
   ]
  },
  {
   "cell_type": "code",
   "execution_count": 9,
   "metadata": {},
   "outputs": [],
   "source": [
    "USCasedf = ChangeUSdf(USCasedf)"
   ]
  },
  {
   "cell_type": "code",
   "execution_count": 10,
   "metadata": {},
   "outputs": [],
   "source": [
    "USCasedf = USCasedf.drop(['4/23/20'],axis = 1)\n"
   ]
  },
  {
   "cell_type": "code",
   "execution_count": 11,
   "metadata": {},
   "outputs": [
    {
     "name": "stdout",
     "output_type": "stream",
     "text": [
      "14.8\n",
      "51.2538\n",
      "-85.3232\n",
      "0\n",
      "0\n",
      "0\n",
      "0\n",
      "1\n",
      "1\n",
      "1\n",
      "1\n",
      "1\n",
      "3\n",
      "3\n",
      "3\n",
      "3\n",
      "3\n",
      "3\n",
      "3\n",
      "3\n",
      "3\n",
      "3\n",
      "3\n",
      "3\n",
      "3\n",
      "3\n",
      "3\n",
      "3\n",
      "3\n",
      "3\n",
      "3\n",
      "3\n",
      "3\n",
      "3\n",
      "3\n",
      "3\n",
      "4\n",
      "4\n",
      "4\n",
      "6\n",
      "6\n",
      "11\n",
      "15\n",
      "18\n",
      "20\n",
      "20\n",
      "22\n",
      "25\n",
      "28\n",
      "29\n",
      "34\n",
      "36\n",
      "41\n",
      "42\n",
      "74\n",
      "79\n",
      "104\n",
      "177\n",
      "185\n",
      "221\n",
      "257\n",
      "308\n",
      "377\n",
      "425\n",
      "503\n",
      "588\n",
      "688\n",
      "858\n",
      "994\n",
      "1144\n",
      "1355\n",
      "1706\n",
      "1966\n",
      "2392\n",
      "2793\n",
      "3255\n",
      "3630\n",
      "4354\n",
      "4347\n",
      "4726\n",
      "5276\n",
      "5759\n",
      "6237\n",
      "6648\n",
      "7049\n",
      "7470\n",
      "7953\n",
      "8447\n",
      "9840\n",
      "10456\n",
      "11013\n",
      "11561\n",
      "12063\n",
      "12715\n",
      "13718\n"
     ]
    },
    {
     "name": "stderr",
     "output_type": "stream",
     "text": [
      "/Users/jiayingcui/opt/anaconda3/lib/python3.7/site-packages/pandas/core/frame.py:7123: FutureWarning: Sorting because non-concatenation axis is not aligned. A future version\n",
      "of pandas will change to not sort by default.\n",
      "\n",
      "To accept the future behavior, pass 'sort=False'.\n",
      "\n",
      "To retain the current behavior and silence the warning, pass 'sort=True'.\n",
      "\n",
      "  sort=sort,\n"
     ]
    }
   ],
   "source": [
    "# USCasedf = USCasedf.rename(columns = WorldCasedf.columns)\n",
    "WorldCasedf.append(USCasedf)\n",
    "WorldCol = WorldCasedf.columns\n",
    "WorldCasedf.columns = range(95)\n",
    "USCasedf.columns = range(95)\n",
    "new = WorldCasedf.append(USCasedf)\n",
    "new.columns = WorldCol\n",
    "WorldCasedf = new\n",
    "for x in new.loc['Ontario',:]:\n",
    "    print(x)"
   ]
  },
  {
   "cell_type": "markdown",
   "metadata": {},
   "source": [
    "## Adding the Row of Waterloo and Delete the unimportant ones"
   ]
  },
  {
   "cell_type": "code",
   "execution_count": 12,
   "metadata": {},
   "outputs": [],
   "source": [
    "### ADDING THE ROW OF WATERLOO\n",
    "\n",
    "waterloodata = [1,4,8,9,11,12,15,17,22,33,48,58,60,70,81,88,102,108,118,129,148,\n",
    "               157,158,172,185,207,220,237,242,261,274,327,353,379,383,399,474,\n",
    "               487,503,528]\n",
    "start = [480.1,43.4643,-80.5204]\n",
    "zeros = [0]*52\n",
    "Waterloo_row = start+zeros+waterloodata\n",
    "\t\n",
    "# Pass a series in append() to append a row in dataframe  \n",
    "WorldCasedf = WorldCasedf.append(pd.Series(Waterloo_row, index=WorldCasedf.columns,name = 'Waterloo' ),ignore_index=False)\n"
   ]
  },
  {
   "cell_type": "code",
   "execution_count": 13,
   "metadata": {},
   "outputs": [],
   "source": [
    "from sklearn.utils import shuffle\n",
    "WorldCasedf = shuffle(WorldCasedf)\n"
   ]
  },
  {
   "cell_type": "code",
   "execution_count": 14,
   "metadata": {},
   "outputs": [],
   "source": [
    "WorldCasedf = WorldCasedf.dropna()\n"
   ]
  },
  {
   "cell_type": "code",
   "execution_count": null,
   "metadata": {},
   "outputs": [],
   "source": []
  },
  {
   "cell_type": "code",
   "execution_count": null,
   "metadata": {},
   "outputs": [],
   "source": []
  },
  {
   "cell_type": "markdown",
   "metadata": {},
   "source": [
    "### Handling Testing Cases and Training Cases"
   ]
  },
  {
   "cell_type": "code",
   "execution_count": 15,
   "metadata": {},
   "outputs": [
    {
     "data": {
      "text/plain": [
       "(284, 95)"
      ]
     },
     "execution_count": 15,
     "metadata": {},
     "output_type": "execute_result"
    }
   ],
   "source": [
    "WorldCasedf.shape"
   ]
  },
  {
   "cell_type": "code",
   "execution_count": 16,
   "metadata": {},
   "outputs": [],
   "source": [
    "def makeInput(df,x):\n",
    "    returndf = df.iloc[:,0:60].copy()\n",
    "    i = 1;\n",
    "    while (i !=x):\n",
    "        newdf = df.iloc[:,np.r_[0:3,3+i:60+i]]\n",
    "        newdf.columns = returndf.columns\n",
    "        returndf = returndf.append(newdf)\n",
    "        i += 1\n",
    "    return returndf\n"
   ]
  },
  {
   "cell_type": "code",
   "execution_count": 17,
   "metadata": {},
   "outputs": [],
   "source": [
    "num_of_train = WorldCasedf.shape[1]-5-60-1\n",
    "\n",
    "Train_df = makeInput(WorldCasedf,num_of_train)\n",
    "Test_Casedf = WorldCasedf.iloc[:,np.r_[0:3,34:95]]\n",
    "\n",
    "Train_df = makeInput(WorldCasedf,num_of_train)\n",
    "\n",
    "Test_df = makeInput(Test_Casedf,5)\n",
    "Train_x = Train_df.iloc[:,:-1]\n",
    "Train_y = Train_df.iloc[:,-1]\n",
    "Test_x = Test_df.iloc[:,:-1]\n",
    "Test_y = Test_df.iloc[:,-1]"
   ]
  },
  {
   "cell_type": "markdown",
   "metadata": {},
   "source": [
    "## Start Predicting"
   ]
  },
  {
   "cell_type": "code",
   "execution_count": 18,
   "metadata": {},
   "outputs": [],
   "source": [
    "from sklearn.model_selection import cross_val_score\n",
    "from sklearn.metrics import mean_absolute_error\n",
    "from sklearn.metrics import r2_score\n",
    "### not svc,GaussianNB \n"
   ]
  },
  {
   "cell_type": "code",
   "execution_count": 19,
   "metadata": {},
   "outputs": [
    {
     "name": "stdout",
     "output_type": "stream",
     "text": [
      "436.19795134443024\n",
      "0.9888348077888632\n"
     ]
    }
   ],
   "source": [
    "from sklearn.tree import DecisionTreeRegressor\n",
    "regr_1 = DecisionTreeRegressor()\n",
    "\n",
    "regr_1.fit(Train_x, Train_y)\n",
    "print(mean_absolute_error(Test_y, regr_1.predict(Test_x)))\n",
    "print(r2_score(Test_y, regr_1.predict(Test_x)))\n"
   ]
  },
  {
   "cell_type": "code",
   "execution_count": 20,
   "metadata": {},
   "outputs": [
    {
     "name": "stdout",
     "output_type": "stream",
     "text": [
      "195.41457662143512\n",
      "0.9988504968329827\n"
     ]
    }
   ],
   "source": [
    "from sklearn.neural_network import MLPRegressor\n",
    "MLP = MLPRegressor()\n",
    "MLP.fit(Train_x, Train_y)\n",
    "mean_absolute_error(Test_y, MLP.predict(Test_x))\n",
    "print(mean_absolute_error(Test_y, MLP.predict(Test_x)))\n",
    "print(r2_score(Test_y, MLP.predict(Test_x)))\n",
    "\n"
   ]
  },
  {
   "cell_type": "code",
   "execution_count": 21,
   "metadata": {},
   "outputs": [
    {
     "name": "stdout",
     "output_type": "stream",
     "text": [
      "883.9753221530952\n",
      "0.9621795257590702\n"
     ]
    }
   ],
   "source": [
    "from sklearn import neighbors\n",
    "knn = neighbors.KNeighborsRegressor(7, weights='distance')\n",
    "knn.fit(Train_x, Train_y)\n",
    "mean_absolute_error(Test_y, knn.predict(Test_x).astype(int))\n",
    "print(mean_absolute_error(Test_y, knn.predict(Test_x)))\n",
    "print(r2_score(Test_y, knn.predict(Test_x)))"
   ]
  },
  {
   "cell_type": "markdown",
   "metadata": {},
   "source": [
    "## Predict Use Decision Tree"
   ]
  },
  {
   "cell_type": "code",
   "execution_count": 25,
   "metadata": {},
   "outputs": [],
   "source": [
    "def DTOnestep(df,i):\n",
    "    \n",
    "    Pred_Casedf = df.iloc[:,np.r_[0:3,39+i:df.shape[1]]]\n",
    "    return regr_1.predict(Pred_Casedf).astype(int)\n",
    "\n",
    "    \n",
    "def NextDate(month,date,year):  \n",
    "    if (month in [1,3,5,7,8,9,10]):\n",
    "        if (date == 31):\n",
    "            return [month+1,1,year]\n",
    "    if (month in [4,6,9,11]):\n",
    "        if (date == 30):\n",
    "            return [month+1,1,year]\n",
    "    if (month == 12):\n",
    "        if (date == 31):\n",
    "            return [1,1,year + 1]\n",
    "    if (month == 2):\n",
    "        if (date == 28):\n",
    "            return [3,1,year]\n",
    "    return[month,date+1,year]\n",
    "            \n",
    "\n",
    "\n"
   ]
  },
  {
   "cell_type": "code",
   "execution_count": 26,
   "metadata": {},
   "outputs": [],
   "source": [
    "def Predict(WorldCasedf):\n",
    "    currentDate = [4,22,19]\n",
    "    for i in range(100):\n",
    "        currentDate = NextDate(currentDate[0],currentDate[1],currentDate[2])\n",
    "        col_name = str(currentDate[0])+\"/\"+str(currentDate[1])+\"/\"+str(currentDate[2])\n",
    "        WorldCasedf[col_name] = DTOnestep(WorldCasedf,i)\n",
    "    return WorldCasedf"
   ]
  },
  {
   "cell_type": "code",
   "execution_count": 27,
   "metadata": {},
   "outputs": [],
   "source": [
    "Prediction = Predict(WorldCasedf)"
   ]
  },
  {
   "cell_type": "code",
   "execution_count": 28,
   "metadata": {},
   "outputs": [
    {
     "data": {
      "text/plain": [
       "4/18/20    241712\n",
       "4/19/20    247815\n",
       "4/20/20    253060\n",
       "4/21/20    258361\n",
       "4/22/20    263292\n",
       "4/23/19    214454\n",
       "4/24/19    214454\n",
       "4/25/19    214454\n",
       "4/26/19    214454\n",
       "4/27/19    214454\n",
       "Name: New York, dtype: object"
      ]
     },
     "execution_count": 28,
     "metadata": {},
     "output_type": "execute_result"
    }
   ],
   "source": [
    "WorldCasedf.loc['New York',:][90:100]"
   ]
  },
  {
   "cell_type": "code",
   "execution_count": 29,
   "metadata": {},
   "outputs": [
    {
     "data": {
      "image/png": "[encoded data removed]",
      "text/plain": [
       "<Figure size 432x288 with 1 Axes>"
      ]
     },
     "metadata": {
      "needs_background": "light"
     },
     "output_type": "display_data"
    }
   ],
   "source": [
    "import matplotlib.pyplot as plt\n",
    "\n",
    "import matplotlib.ticker as ticker\n",
    "fig, ax = plt.subplots()\n",
    "ax.plot(Prediction.loc['Waterloo',:][4:130])\n",
    "\n",
    "plt.title(\"Waterloo Comfirmed Case Trend\")\n",
    "plt.xticks(Prediction.columns[4:130],rotation=45)\n",
    "i = 0\n",
    "for label in ax.get_xticklabels():\n",
    "    if (i%5 == 0):\n",
    "        i += 1\n",
    "        continue\n",
    "    label.set_visible(False)\n",
    "    i += 1\n",
    "\n",
    "\n",
    "plt.show()"
   ]
  },
  {
   "cell_type": "code",
   "execution_count": 30,
   "metadata": {},
   "outputs": [],
   "source": [
    "confirm_Waterloo = Prediction.loc['Waterloo',:][4:130]\n",
    "New_Case = []\n",
    "last = 0\n",
    "for i in range(confirm_Waterloo.shape[0]):\n",
    "    more = confirm_Waterloo.iloc[i] - last\n",
    "    last = confirm_Waterloo.iloc[i]\n",
    "    New_Case.append(more)\n",
    "    \n",
    "   "
   ]
  },
  {
   "cell_type": "code",
   "execution_count": 31,
   "metadata": {},
   "outputs": [
    {
     "data": {
      "image/png": "[encoded data removed]",
      "text/plain": [
       "<Figure size 432x288 with 1 Axes>"
      ]
     },
     "metadata": {
      "needs_background": "light"
     },
     "output_type": "display_data"
    }
   ],
   "source": [
    "New_Casedf = pd.DataFrame(New_Case) \n",
    "\n",
    "fig, ax = plt.subplots()\n",
    "\n",
    "\n",
    "dfObj = pd.DataFrame(New_Case)\n",
    "dfObj.index= Prediction.columns[4:130]\n",
    "ax.plot(dfObj)\n",
    "\n",
    "plt.title(\"Waterloo New Case\")\n",
    "plt.xticks(rotation=45)\n",
    "i = 0\n",
    "for label in ax.get_xticklabels():\n",
    "    if (i%5 == 0):\n",
    "        i += 1\n",
    "        continue\n",
    "    label.set_visible(False)\n",
    "    i += 1\n",
    "\n",
    "\n",
    "plt.show()"
   ]
  },
  {
   "cell_type": "code",
   "execution_count": 32,
   "metadata": {},
   "outputs": [],
   "source": [
    "Starting = Prediction.loc['Ontario',:]\n",
    "for i in ['Alberta', 'British Columbia', 'Manitoba', 'New Brunswick', 'Newfoundland' ,'Labrador',\n",
    "          'Nova Scotia', 'Prince Edward Island', 'Quebec',\n",
    "          'Saskatchewan', 'Northwest Territories', 'Nunavut','Yukon']:\n",
    "    if (i in Prediction.index):\n",
    "        current_Row = Prediction.loc[i,:]\n",
    "   \n",
    "        for x in range(Starting.shape[0]):\n",
    "            Starting.iat[x] = current_Row[x] + Starting[x]\n",
    "        \n",
    "    "
   ]
  },
  {
   "cell_type": "code",
   "execution_count": 33,
   "metadata": {},
   "outputs": [],
   "source": [
    "US_Starting = Prediction.loc[\"New York\",:]\n",
    "for i in [\"Alabama\",\"Alaska\",\"Arizona\",\"Arkansas\",\"California\",\"Colorado\",\n",
    "  \"Connecticut\",\"Delaware\",\"Florida\",\"Georgia\",\"Hawaii\",\"Idaho\",\"Illinois\",\n",
    "  \"Indiana\",\"Iowa\",\"Kansas\",\"Kentucky\",\"Louisiana\",\"Maine\",\"Maryland\",\n",
    "  \"Massachusetts\",\"Michigan\",\"Minnesota\",\"Mississippi\",\"Missouri\",\"Montana\",\n",
    "  \"Nebraska\",\"Nevada\",\"New Hampshire\",\"New Jersey\",\"New Mexico\",\n",
    "  \"North Carolina\",\"North Dakota\",\"Ohio\",\"Oklahoma\",\"Oregon\",\"Pennsylvania\",\n",
    "  \"Rhode Island\",\"South Carolina\",\"South Dakota\",\"Tennessee\",\"Texas\",\"Utah\",\n",
    "  \"Vermont\",\"Virginia\",\"Washington\",\"West Virginia\",\"Wisconsin\",\"Wyoming\"]:\n",
    "    if (i in Prediction.index):\n",
    "        current_Row = Prediction.loc[i,:]\n",
    "        if (current_Row.shape[0] == 2):\n",
    "            continue;\n",
    "        \n",
    "        \n",
    "        for x in range(US_Starting.shape[0]):\n",
    "            US_Starting.iat[x] = current_Row[x] + US_Starting[x]\n",
    "     "
   ]
  },
  {
   "cell_type": "code",
   "execution_count": 34,
   "metadata": {},
   "outputs": [
    {
     "data": {
      "text/plain": [
       "Population Density      419.3\n",
       "Lat                   42.5442\n",
       "Long                 -75.4742\n",
       "1/22/20                     0\n",
       "1/23/20                     0\n",
       "                       ...   \n",
       "7/27/19                214454\n",
       "7/28/19                214454\n",
       "7/29/19                214454\n",
       "7/30/19                214454\n",
       "7/31/19                214454\n",
       "Name: New York, Length: 195, dtype: object"
      ]
     },
     "execution_count": 34,
     "metadata": {},
     "output_type": "execute_result"
    }
   ],
   "source": [
    "American = Prediction.loc['New York',:]\n",
    "American"
   ]
  },
  {
   "cell_type": "code",
   "execution_count": 35,
   "metadata": {},
   "outputs": [
    {
     "data": {
      "image/png": "[encoded data removed]",
      "text/plain": [
       "<Figure size 432x288 with 1 Axes>"
      ]
     },
     "metadata": {
      "needs_background": "light"
     },
     "output_type": "display_data"
    }
   ],
   "source": [
    "fig, ax = plt.subplots()\n",
    "ax.plot(Prediction.loc['Ontario',:][4:130])\n",
    "ax.plot(Prediction.loc['New York',:][4:130])\n",
    "\n",
    "plt.title(\"NewYork vs Ontario\")\n",
    "plt.xticks(Prediction.columns[4:130],rotation=45)\n",
    "i = 0\n",
    "for label in ax.get_xticklabels():\n",
    "    if (i%5 == 0):\n",
    "        i += 1\n",
    "        continue\n",
    "    label.set_visible(False)\n",
    "    i += 1\n",
    "\n",
    "\n",
    "plt.show()"
   ]
  },
  {
   "cell_type": "code",
   "execution_count": 36,
   "metadata": {},
   "outputs": [
    {
     "data": {
      "image/png": "[encoded data removed]",
      "text/plain": [
       "<Figure size 1440x720 with 1 Axes>"
      ]
     },
     "metadata": {
      "needs_background": "light"
     },
     "output_type": "display_data"
    }
   ],
   "source": [
    "\n",
    "\n",
    "fig, ax = plt.subplots(figsize=(20, 10))\n",
    "\n",
    "\n",
    "\n",
    "ax.plot(Starting[4:])\n",
    "ax.plot(US_Starting[4:])\n",
    "\n",
    "\n",
    "plt.title(\"Canada Comfirmed Cases Overall\")\n",
    "plt.xticks(rotation=45)\n",
    "i = 0\n",
    "for label in ax.get_xticklabels():\n",
    "    if (i%5 == 0):\n",
    "        i += 1\n",
    "        continue\n",
    "    label.set_visible(False)\n",
    "    i += 1\n",
    "\n",
    "\n",
    "plt.show()"
   ]
  },
  {
   "cell_type": "code",
   "execution_count": null,
   "metadata": {},
   "outputs": [],
   "source": []
  }
 ],
 "metadata": {
  "kernelspec": {
   "display_name": "Python 3",
   "language": "python",
   "name": "python3"
  },
  "language_info": {
   "codemirror_mode": {
    "name": "ipython",
    "version": 3
   },
   "file_extension": ".py",
   "mimetype": "text/x-python",
   "name": "python",
   "nbconvert_exporter": "python",
   "pygments_lexer": "ipython3",
   "version": "3.7.4"
  }
 },
 "nbformat": 4,
 "nbformat_minor": 2
}
